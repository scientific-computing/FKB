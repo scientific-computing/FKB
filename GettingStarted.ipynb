{
 "cells": [
  {
   "cell_type": "markdown",
   "metadata": {},
   "source": [
    "# Getting Started With FKB"
   ]
  },
  {
   "cell_type": "code",
   "execution_count": 1,
   "metadata": {},
   "outputs": [],
   "source": [
    "import warnings\n",
    "warnings.filterwarnings('ignore')"
   ]
  },
  {
   "cell_type": "code",
   "execution_count": 2,
   "metadata": {},
   "outputs": [
    {
     "name": "stderr",
     "output_type": "stream",
     "text": [
      "Using TensorFlow backend.\n"
     ]
    }
   ],
   "source": [
    "import numpy as np\n",
    "from tensorflow.keras.layers import Dense\n",
    "from tensorflow.keras.models import Sequential\n",
    "from IPython.display import SVG\n",
    "from tensorflow.keras.utils import model_to_dot\n",
    "from tensorflow.compat.v1.random import set_random_seed"
   ]
  },
  {
   "cell_type": "code",
   "execution_count": 3,
   "metadata": {},
   "outputs": [],
   "source": [
    "# set random seeds\n",
    "np.random.seed(123); set_random_seed(123)"
   ]
  },
  {
   "cell_type": "markdown",
   "metadata": {},
   "source": [
    "### Build Keras Model\n",
    "FKB [supported model types](https://github.com/scientific-computing/FKB/tree/master/KerasWeightsProcessing#supported-models)"
   ]
  },
  {
   "cell_type": "code",
   "execution_count": 4,
   "metadata": {},
   "outputs": [],
   "source": [
    "model = Sequential()\n",
    "model.add(Dense(8, input_dim=5, activation='relu'))\n",
    "model.add(Dense(12, activation='relu'))\n",
    "model.add(Dense(2,  activation='linear'))\n",
    "\n",
    "model.compile(loss='mse', optimizer='SGD')"
   ]
  },
  {
   "cell_type": "markdown",
   "metadata": {},
   "source": [
    "### Visualize the model"
   ]
  },
  {
   "cell_type": "code",
   "execution_count": 5,
   "metadata": {},
   "outputs": [
    {
     "data": {
      "image/svg+xml": [
       "<svg height=\"274pt\" viewBox=\"0.00 0.00 209.00 304.00\" width=\"189pt\" xmlns=\"http://www.w3.org/2000/svg\" xmlns:xlink=\"http://www.w3.org/1999/xlink\">\n",
       "<g class=\"graph\" id=\"graph0\" transform=\"scale(.9028 .9028) rotate(0) translate(4 300)\">\n",
       "<title>G</title>\n",
       "<polygon fill=\"#ffffff\" points=\"-4,4 -4,-300 205,-300 205,4 -4,4\" stroke=\"transparent\"/>\n",
       "<!-- 139813847936584 -->\n",
       "<g class=\"node\" id=\"node1\">\n",
       "<title>139813847936584</title>\n",
       "<polygon fill=\"none\" points=\"0,-249.5 0,-295.5 201,-295.5 201,-249.5 0,-249.5\" stroke=\"#000000\"/>\n",
       "<text fill=\"#000000\" font-family=\"Times,serif\" font-size=\"14.00\" text-anchor=\"middle\" x=\"38.5\" y=\"-268.8\">InputLayer</text>\n",
       "<polyline fill=\"none\" points=\"77,-249.5 77,-295.5 \" stroke=\"#000000\"/>\n",
       "<text fill=\"#000000\" font-family=\"Times,serif\" font-size=\"14.00\" text-anchor=\"middle\" x=\"104.5\" y=\"-280.3\">input:</text>\n",
       "<polyline fill=\"none\" points=\"77,-272.5 132,-272.5 \" stroke=\"#000000\"/>\n",
       "<text fill=\"#000000\" font-family=\"Times,serif\" font-size=\"14.00\" text-anchor=\"middle\" x=\"104.5\" y=\"-257.3\">output:</text>\n",
       "<polyline fill=\"none\" points=\"132,-249.5 132,-295.5 \" stroke=\"#000000\"/>\n",
       "<text fill=\"#000000\" font-family=\"Times,serif\" font-size=\"14.00\" text-anchor=\"middle\" x=\"166.5\" y=\"-280.3\">(None, 5)</text>\n",
       "<polyline fill=\"none\" points=\"132,-272.5 201,-272.5 \" stroke=\"#000000\"/>\n",
       "<text fill=\"#000000\" font-family=\"Times,serif\" font-size=\"14.00\" text-anchor=\"middle\" x=\"166.5\" y=\"-257.3\">(None, 5)</text>\n",
       "</g>\n",
       "<!-- 139814389887776 -->\n",
       "<g class=\"node\" id=\"node2\">\n",
       "<title>139814389887776</title>\n",
       "<polygon fill=\"none\" points=\"13.5,-166.5 13.5,-212.5 187.5,-212.5 187.5,-166.5 13.5,-166.5\" stroke=\"#000000\"/>\n",
       "<text fill=\"#000000\" font-family=\"Times,serif\" font-size=\"14.00\" text-anchor=\"middle\" x=\"38.5\" y=\"-185.8\">Dense</text>\n",
       "<polyline fill=\"none\" points=\"63.5,-166.5 63.5,-212.5 \" stroke=\"#000000\"/>\n",
       "<text fill=\"#000000\" font-family=\"Times,serif\" font-size=\"14.00\" text-anchor=\"middle\" x=\"91\" y=\"-197.3\">input:</text>\n",
       "<polyline fill=\"none\" points=\"63.5,-189.5 118.5,-189.5 \" stroke=\"#000000\"/>\n",
       "<text fill=\"#000000\" font-family=\"Times,serif\" font-size=\"14.00\" text-anchor=\"middle\" x=\"91\" y=\"-174.3\">output:</text>\n",
       "<polyline fill=\"none\" points=\"118.5,-166.5 118.5,-212.5 \" stroke=\"#000000\"/>\n",
       "<text fill=\"#000000\" font-family=\"Times,serif\" font-size=\"14.00\" text-anchor=\"middle\" x=\"153\" y=\"-197.3\">(None, 5)</text>\n",
       "<polyline fill=\"none\" points=\"118.5,-189.5 187.5,-189.5 \" stroke=\"#000000\"/>\n",
       "<text fill=\"#000000\" font-family=\"Times,serif\" font-size=\"14.00\" text-anchor=\"middle\" x=\"153\" y=\"-174.3\">(None, 8)</text>\n",
       "</g>\n",
       "<!-- 139813847936584&#45;&gt;139814389887776 -->\n",
       "<g class=\"edge\" id=\"edge1\">\n",
       "<title>139813847936584-&gt;139814389887776</title>\n",
       "<path d=\"M100.5,-249.3799C100.5,-241.1745 100.5,-231.7679 100.5,-222.8786\" fill=\"none\" stroke=\"#000000\"/>\n",
       "<polygon fill=\"#000000\" points=\"104.0001,-222.784 100.5,-212.784 97.0001,-222.784 104.0001,-222.784\" stroke=\"#000000\"/>\n",
       "</g>\n",
       "<!-- 139814389887608 -->\n",
       "<g class=\"node\" id=\"node3\">\n",
       "<title>139814389887608</title>\n",
       "<polygon fill=\"none\" points=\"10,-83.5 10,-129.5 191,-129.5 191,-83.5 10,-83.5\" stroke=\"#000000\"/>\n",
       "<text fill=\"#000000\" font-family=\"Times,serif\" font-size=\"14.00\" text-anchor=\"middle\" x=\"35\" y=\"-102.8\">Dense</text>\n",
       "<polyline fill=\"none\" points=\"60,-83.5 60,-129.5 \" stroke=\"#000000\"/>\n",
       "<text fill=\"#000000\" font-family=\"Times,serif\" font-size=\"14.00\" text-anchor=\"middle\" x=\"87.5\" y=\"-114.3\">input:</text>\n",
       "<polyline fill=\"none\" points=\"60,-106.5 115,-106.5 \" stroke=\"#000000\"/>\n",
       "<text fill=\"#000000\" font-family=\"Times,serif\" font-size=\"14.00\" text-anchor=\"middle\" x=\"87.5\" y=\"-91.3\">output:</text>\n",
       "<polyline fill=\"none\" points=\"115,-83.5 115,-129.5 \" stroke=\"#000000\"/>\n",
       "<text fill=\"#000000\" font-family=\"Times,serif\" font-size=\"14.00\" text-anchor=\"middle\" x=\"153\" y=\"-114.3\">(None, 8)</text>\n",
       "<polyline fill=\"none\" points=\"115,-106.5 191,-106.5 \" stroke=\"#000000\"/>\n",
       "<text fill=\"#000000\" font-family=\"Times,serif\" font-size=\"14.00\" text-anchor=\"middle\" x=\"153\" y=\"-91.3\">(None, 12)</text>\n",
       "</g>\n",
       "<!-- 139814389887776&#45;&gt;139814389887608 -->\n",
       "<g class=\"edge\" id=\"edge2\">\n",
       "<title>139814389887776-&gt;139814389887608</title>\n",
       "<path d=\"M100.5,-166.3799C100.5,-158.1745 100.5,-148.7679 100.5,-139.8786\" fill=\"none\" stroke=\"#000000\"/>\n",
       "<polygon fill=\"#000000\" points=\"104.0001,-139.784 100.5,-129.784 97.0001,-139.784 104.0001,-139.784\" stroke=\"#000000\"/>\n",
       "</g>\n",
       "<!-- 139813847936752 -->\n",
       "<g class=\"node\" id=\"node4\">\n",
       "<title>139813847936752</title>\n",
       "<polygon fill=\"none\" points=\"10,-.5 10,-46.5 191,-46.5 191,-.5 10,-.5\" stroke=\"#000000\"/>\n",
       "<text fill=\"#000000\" font-family=\"Times,serif\" font-size=\"14.00\" text-anchor=\"middle\" x=\"35\" y=\"-19.8\">Dense</text>\n",
       "<polyline fill=\"none\" points=\"60,-.5 60,-46.5 \" stroke=\"#000000\"/>\n",
       "<text fill=\"#000000\" font-family=\"Times,serif\" font-size=\"14.00\" text-anchor=\"middle\" x=\"87.5\" y=\"-31.3\">input:</text>\n",
       "<polyline fill=\"none\" points=\"60,-23.5 115,-23.5 \" stroke=\"#000000\"/>\n",
       "<text fill=\"#000000\" font-family=\"Times,serif\" font-size=\"14.00\" text-anchor=\"middle\" x=\"87.5\" y=\"-8.3\">output:</text>\n",
       "<polyline fill=\"none\" points=\"115,-.5 115,-46.5 \" stroke=\"#000000\"/>\n",
       "<text fill=\"#000000\" font-family=\"Times,serif\" font-size=\"14.00\" text-anchor=\"middle\" x=\"153\" y=\"-31.3\">(None, 12)</text>\n",
       "<polyline fill=\"none\" points=\"115,-23.5 191,-23.5 \" stroke=\"#000000\"/>\n",
       "<text fill=\"#000000\" font-family=\"Times,serif\" font-size=\"14.00\" text-anchor=\"middle\" x=\"153\" y=\"-8.3\">(None, 2)</text>\n",
       "</g>\n",
       "<!-- 139814389887608&#45;&gt;139813847936752 -->\n",
       "<g class=\"edge\" id=\"edge3\">\n",
       "<title>139814389887608-&gt;139813847936752</title>\n",
       "<path d=\"M100.5,-83.3799C100.5,-75.1745 100.5,-65.7679 100.5,-56.8786\" fill=\"none\" stroke=\"#000000\"/>\n",
       "<polygon fill=\"#000000\" points=\"104.0001,-56.784 100.5,-46.784 97.0001,-56.784 104.0001,-56.784\" stroke=\"#000000\"/>\n",
       "</g>\n",
       "</g>\n",
       "</svg>"
      ],
      "text/plain": [
       "<IPython.core.display.SVG object>"
      ]
     },
     "execution_count": 5,
     "metadata": {},
     "output_type": "execute_result"
    }
   ],
   "source": [
    "SVG(model_to_dot(model, show_shapes= True, show_layer_names=False, dpi=65).create(prog='dot', format='svg'))"
   ]
  },
  {
   "cell_type": "markdown",
   "metadata": {},
   "source": [
    "### Save the model to file"
   ]
  },
  {
   "cell_type": "code",
   "execution_count": 6,
   "metadata": {},
   "outputs": [],
   "source": [
    "model.save('getting_started_model.h5')"
   ]
  },
  {
   "cell_type": "markdown",
   "metadata": {},
   "source": [
    "### Convert to Fortran Acceptable Config"
   ]
  },
  {
   "cell_type": "code",
   "execution_count": 7,
   "metadata": {},
   "outputs": [],
   "source": [
    "from KerasWeightsProcessing.convert_weights import txt_to_h5, h5_to_txt"
   ]
  },
  {
   "cell_type": "code",
   "execution_count": 8,
   "metadata": {},
   "outputs": [],
   "source": [
    "h5_to_txt(\n",
    "    weights_file_name='getting_started_model.h5', \n",
    "    output_file_name='getting_started_model.txt'\n",
    ")"
   ]
  },
  {
   "cell_type": "markdown",
   "metadata": {},
   "source": [
    "### Examine the Fortran Config File\n",
    "[Documentation](https://github.com/scientific-computing/FKB/tree/master/KerasWeightsProcessing#format-of-the-txt-file) for the config file fromat"
   ]
  },
  {
   "cell_type": "code",
   "execution_count": 9,
   "metadata": {},
   "outputs": [
    {
     "name": "stdout",
     "output_type": "stream",
     "text": [
      "7\n",
      "input\t5\n",
      "dense\t8\n",
      "relu\t0\n",
      "dense\t12\n",
      "relu\t0\n",
      "dense\t2\n",
      "linear\t0\n",
      "0.009999999776482582\n",
      "0.0000000e+00\t0.0000000e+00\t0.0000000e+00\t0.0000000e+00\t0.0000000e+00\t0.0000000e+00\t0.0000000e+00\t0.0000000e+00\n",
      "0.0000000e+00\t0.0000000e+00\t0.0000000e+00\t0.0000000e+00\t0.0000000e+00\t0.0000000e+00\t0.0000000e+00\t0.0000000e+00\t0.0000000e+00\t0.0000000e+00\t0.0000000e+00\t0.0000000e+00\n",
      "0.0000000e+00\t0.0000000e+00\n",
      "-4.8925596e-01\t5.5228937e-01\t-5.9026456e-01\t-5.8673549e-01\t-1.1316413e-01\t-5.3596359e-01\t-1.3628745e-01\t5.7868993e-01\t-5.6312466e-01\t-1.6657311e-01\t5.5376709e-01\t9.3283951e-02\t3.0819613e-01\t1.3606751e-01\t7.4575841e-02\t6.6046178e-02\t-1.2762833e-01\t4.5480883e-01\t4.5791590e-01\t5.6096792e-01\t-4.9174094e-01\t-2.8221378e-01\t-6.2307608e-01\t-2.3888716e-01\t1.3567424e-01\t6.5321004e-01\t-5.0579786e-02\t2.6826042e-01\t3.0757529e-01\t3.7237585e-01\t-4.5867616e-01\t-4.4614393e-01\t4.0070748e-01\t-1.6273969e-01\t1.1666548e-01\t2.9404122e-01\t-5.0823128e-01\t-6.5129656e-01\t4.1201031e-01\t5.6093168e-01\n",
      "4.0553868e-02\t9.6573949e-02\t-3.3890471e-01\t1.6674191e-01\t7.0771515e-02\t3.6650002e-01\t-1.9498685e-01\t1.0862392e-01\t4.1071165e-01\t1.9310224e-01\t-1.8397704e-01\t-4.7357696e-01\t-2.9976419e-01\t-2.9590806e-01\t-2.5404754e-01\t-5.2027261e-01\t5.8949590e-03\t2.8185481e-01\t-1.6148686e-02\t-5.4059643e-01\t-2.2240770e-01\t5.4121828e-01\t-4.8090827e-01\t9.2577100e-02\t3.7117064e-02\t3.1357664e-01\t4.7458398e-01\t2.1313548e-01\t-3.5791767e-01\t-1.3611913e-02\t-2.3721603e-01\t9.2638075e-02\t7.5807333e-02\t-2.2315231e-01\t-9.7155988e-02\t3.7188178e-01\t5.3176367e-01\t-5.2318329e-01\t-1.6527721e-01\t-5.3383046e-01\t-2.0904720e-01\t2.6434237e-01\t3.4753078e-01\t-2.5168720e-01\t8.5094810e-02\t-2.5084776e-01\t-2.0858842e-01\t-4.7917604e-01\t-3.9788771e-01\t3.6487514e-01\t-1.0102633e-01\t1.6953111e-02\t-3.4175658e-01\t4.0977794e-01\t-4.9541402e-01\t1.9170350e-01\t-4.9290153e-01\t-4.1672477e-01\t5.2675009e-01\t1.2307048e-01\t-1.0938939e-01\t-4.0539187e-01\t-1.7933559e-01\t-3.9611447e-01\t3.8995427e-01\t5.3793073e-01\t-4.9924585e-01\t-4.9844810e-01\t2.5152069e-01\t-3.0630150e-01\t2.8805846e-01\t2.8171116e-01\t7.3396802e-02\t-4.1457772e-02\t-2.9679716e-02\t-2.7795795e-01\t2.8843445e-01\t-3.5739821e-01\t-3.8943464e-01\t1.4951819e-01\t1.0163015e-01\t-2.6649004e-01\t9.3423784e-02\t4.3548548e-01\t-3.5492840e-01\t-3.8998142e-01\t4.5571578e-01\t-1.1149669e-01\t-7.7975988e-02\t5.5943072e-02\t-2.8546658e-01\t1.9001198e-01\t-2.7253568e-02\t1.6783464e-01\t1.4795560e-01\t1.6983980e-01\n",
      "-2.3763424e-01\t-3.4649304e-01\t3.2941425e-01\t-2.8867993e-01\t-3.3667049e-01\t-7.9367936e-02\t3.0575949e-01\t3.3644497e-02\t-6.0230827e-01\t-3.8811639e-01\t2.2029060e-01\t-2.4442077e-02\t1.2279922e-01\t-1.0972583e-01\t-4.8399407e-01\t-4.6882528e-01\t5.6009471e-01\t1.2921309e-01\t-2.6481178e-01\t1.9890547e-02\t-8.6540222e-02\t-6.4934987e-01\t3.1471014e-01\t3.0597770e-01\n"
     ]
    }
   ],
   "source": [
    "!cat getting_started_model.txt"
   ]
  },
  {
   "cell_type": "markdown",
   "metadata": {},
   "source": [
    "### Compile FKB"
   ]
  },
  {
   "cell_type": "code",
   "execution_count": 10,
   "metadata": {},
   "outputs": [
    {
     "name": "stdout",
     "output_type": "stream",
     "text": [
      "-- The Fortran compiler identification is GNU 7.5.0\n",
      "-- Check for working Fortran compiler: /usr/bin/gfortran\n",
      "-- Check for working Fortran compiler: /usr/bin/gfortran  -- works\n",
      "-- Detecting Fortran compiler ABI info\n",
      "-- Detecting Fortran compiler ABI info - done\n",
      "-- Checking whether /usr/bin/gfortran supports Fortran 90\n",
      "-- Checking whether /usr/bin/gfortran supports Fortran 90 -- yes\n",
      "-- Configuring build for 32-bit integers\n",
      "-- Configuring build for 32-bit reals\n",
      "-- Configuring build for serial execution\n",
      "-- Configuring to build with -fcoarray=single\n",
      "-- Configuring done\n",
      "-- Generating done\n",
      "-- Build files have been written to: /home/jordan/Desktop/FKB/build\n",
      "\u001b[35m\u001b[1mScanning dependencies of target neural\u001b[0m\n",
      "[  4%] \u001b[32mBuilding Fortran object CMakeFiles/neural.dir/src/lib/mod_kinds.F90.o\u001b[0m\n",
      "[  8%] \u001b[32mBuilding Fortran object CMakeFiles/neural.dir/src/lib/mod_activation.F90.o\u001b[0m\n",
      "[ 13%] \u001b[32mBuilding Fortran object CMakeFiles/neural.dir/src/lib/mod_layer.F90.o\u001b[0m\n",
      "[ 17%] \u001b[32mBuilding Fortran object CMakeFiles/neural.dir/src/lib/mod_batchnorm_layer.F90.o\u001b[0m\n",
      "[ 21%] \u001b[32mBuilding Fortran object CMakeFiles/neural.dir/src/lib/mod_random.F90.o\u001b[0m\n",
      "[ 26%] \u001b[32mBuilding Fortran object CMakeFiles/neural.dir/src/lib/mod_dense_layer.F90.o\u001b[0m\n",
      "[ 30%] \u001b[32mBuilding Fortran object CMakeFiles/neural.dir/src/lib/mod_dropout_layer.F90.o\u001b[0m\n",
      "[ 34%] \u001b[32mBuilding Fortran object CMakeFiles/neural.dir/src/lib/mod_parallel.F90.o\u001b[0m\n",
      "[ 39%] \u001b[32mBuilding Fortran object CMakeFiles/neural.dir/src/lib/mod_network.F90.o\u001b[0m\n",
      "[ 43%] \u001b[32mBuilding Fortran object CMakeFiles/neural.dir/src/lib/mod_ensemble.F90.o\u001b[0m\n",
      "[ 47%] \u001b[32mBuilding Fortran object CMakeFiles/neural.dir/src/lib/mod_io.F90.o\u001b[0m\n",
      "[ 52%] \u001b[32mBuilding Fortran object CMakeFiles/neural.dir/src/lib/mod_mnist.F90.o\u001b[0m\n",
      "[ 56%] \u001b[32m\u001b[1mLinking Fortran static library lib/libneural.a\u001b[0m\n",
      "[ 56%] Built target neural\n",
      "\u001b[35m\u001b[1mScanning dependencies of target test_keras\u001b[0m\n",
      "[ 60%] \u001b[32mBuilding Fortran object CMakeFiles/test_keras.dir/src/tests/test_keras.F90.o\u001b[0m\n",
      "[ 65%] \u001b[32m\u001b[1mLinking Fortran executable bin/test_keras\u001b[0m\n",
      "[ 65%] Built target test_keras\n",
      "\u001b[35m\u001b[1mScanning dependencies of target test_training\u001b[0m\n",
      "[ 69%] \u001b[32mBuilding Fortran object CMakeFiles/test_training.dir/src/tests/test_training.F90.o\u001b[0m\n",
      "[ 73%] \u001b[32m\u001b[1mLinking Fortran executable bin/test_training\u001b[0m\n",
      "[ 73%] Built target test_training\n",
      "\u001b[35m\u001b[1mScanning dependencies of target test_bulk\u001b[0m\n",
      "[ 78%] \u001b[32mBuilding Fortran object CMakeFiles/test_bulk.dir/src/tests/test_bulk.F90.o\u001b[0m\n",
      "[ 82%] \u001b[32m\u001b[1mLinking Fortran executable bin/test_bulk\u001b[0m\n",
      "[ 82%] Built target test_bulk\n",
      "\u001b[35m\u001b[1mScanning dependencies of target test_ensembles\u001b[0m\n",
      "[ 86%] \u001b[32mBuilding Fortran object CMakeFiles/test_ensembles.dir/src/tests/test_ensembles.F90.o\u001b[0m\n",
      "[ 91%] \u001b[32m\u001b[1mLinking Fortran executable bin/test_ensembles\u001b[0m\n",
      "[ 91%] Built target test_ensembles\n",
      "\u001b[35m\u001b[1mScanning dependencies of target test_save_and_load\u001b[0m\n",
      "[ 95%] \u001b[32mBuilding Fortran object CMakeFiles/test_save_and_load.dir/src/tests/test_save_and_load.F90.o\u001b[0m\n",
      "[100%] \u001b[32m\u001b[1mLinking Fortran executable bin/test_save_and_load\u001b[0m\n",
      "[100%] Built target test_save_and_load\n"
     ]
    }
   ],
   "source": [
    "!sh build_steps.sh"
   ]
  },
  {
   "cell_type": "markdown",
   "metadata": {},
   "source": [
    "### Run the Fortran Network"
   ]
  },
  {
   "cell_type": "code",
   "execution_count": 11,
   "metadata": {},
   "outputs": [
    {
     "name": "stdout",
     "output_type": "stream",
     "text": [
      " -0.434864998     -0.801291883    \n"
     ]
    }
   ],
   "source": [
    "!build/bin/./test_keras getting_started_model.txt "
   ]
  },
  {
   "cell_type": "markdown",
   "metadata": {},
   "source": [
    "### Run the same input through the Keras network"
   ]
  },
  {
   "cell_type": "code",
   "execution_count": 12,
   "metadata": {},
   "outputs": [
    {
     "name": "stdout",
     "output_type": "stream",
     "text": [
      "WARNING:tensorflow:From /home/jordan/.local/lib/python3.6/site-packages/keras/backend/tensorflow_backend.py:422: The name tf.global_variables is deprecated. Please use tf.compat.v1.global_variables instead.\n",
      "\n"
     ]
    },
    {
     "data": {
      "text/plain": [
       "array([[-0.43486497, -0.80129194]], dtype=float32)"
      ]
     },
     "execution_count": 12,
     "metadata": {},
     "output_type": "execute_result"
    }
   ],
   "source": [
    "model.predict(np.array([1,2,3,4,5]).reshape(1,5))"
   ]
  }
 ],
 "metadata": {
  "kernelspec": {
   "display_name": "Python 3",
   "language": "python",
   "name": "python3"
  },
  "language_info": {
   "codemirror_mode": {
    "name": "ipython",
    "version": 3
   },
   "file_extension": ".py",
   "mimetype": "text/x-python",
   "name": "python",
   "nbconvert_exporter": "python",
   "pygments_lexer": "ipython3",
   "version": "3.6.9"
  }
 },
 "nbformat": 4,
 "nbformat_minor": 4
}
